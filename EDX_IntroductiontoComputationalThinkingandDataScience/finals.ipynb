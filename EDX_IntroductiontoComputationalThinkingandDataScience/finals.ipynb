{
 "cells": [
  {
   "cell_type": "code",
   "execution_count": 2,
   "metadata": {
    "collapsed": true
   },
   "outputs": [],
   "source": [
    "import pylab"
   ]
  },
  {
   "cell_type": "code",
   "execution_count": 3,
   "metadata": {
    "collapsed": false
   },
   "outputs": [
    {
     "name": "stdout",
     "output_type": "stream",
     "text": [
      "4.42188611984e-17 2.0 4.0 8.0\n"
     ]
    }
   ],
   "source": [
    "a = 1.0\n",
    "b = 2.0\n",
    "c = 4.0\n",
    "yVals = []\n",
    "xVals = range(-20, 20)\n",
    "for x in xVals:\n",
    "    yVals.append(a*x**2 + b*x + c)\n",
    "yVals = 2*pylab.array(yVals)\n",
    "xVals = pylab.array(xVals)\n",
    "try:\n",
    "    a, b, c, d = pylab.polyfit(xVals, yVals, 3)\n",
    "    print a, b, c, d\n",
    "except:\n",
    "    print 'fell to here'"
   ]
  },
  {
   "cell_type": "code",
   "execution_count": 4,
   "metadata": {
    "collapsed": false
   },
   "outputs": [
    {
     "name": "stdout",
     "output_type": "stream",
     "text": [
      "[0, 1, 2, 3, 4, 5, 6, 7, 8] 4.0 6.66666666667\n",
      "[5, 10, 10, 10, 15] 10.0 10.0\n",
      "[0, 1, 2, 4, 6, 8] 3.5 7.91666666667\n",
      "[6, 7, 11, 12, 13, 15] 10.6666666667 10.2222222222\n",
      "[9, 0, 0, 3, 3, 3, 6, 6] 3.75 8.4375\n"
     ]
    }
   ],
   "source": [
    "lists = [[0,1,2,3,4,5,6,7,8],\n",
    "         [5,10,10,10,15],\n",
    "         [0,1,2,4,6,8],\n",
    "         [6,7,11,12,13,15],\n",
    "         [9,0,0,3,3,3,6,6]]\n",
    "for i in lists:\n",
    "    print i, np.mean(i), np.var(i)"
   ]
  },
  {
   "cell_type": "code",
   "execution_count": 10,
   "metadata": {
    "collapsed": true
   },
   "outputs": [],
   "source": [
    "def possible_mean(L):\n",
    "    return sum(L)/len(L)\n",
    "\n",
    "def possible_variance(L):\n",
    "    mu = possible_mean(L)\n",
    "    temp = 0\n",
    "    for e in L:\n",
    "        temp += (e-mu)**2\n",
    "    return temp / len(L)"
   ]
  },
  {
   "cell_type": "code",
   "execution_count": 11,
   "metadata": {
    "collapsed": false
   },
   "outputs": [
    {
     "name": "stdout",
     "output_type": "stream",
     "text": [
      "[0, 1, 2, 3, 4, 5, 6, 7, 8] 6.66666666667\n",
      "[5, 10, 10, 10, 15] 10.0\n",
      "[0, 1, 2, 4, 6, 8] 7.91666666667\n",
      "[6, 7, 11, 12, 13, 15] 10.2222222222\n",
      "[9, 0, 0, 3, 3, 3, 6, 6] 8.4375\n"
     ]
    }
   ],
   "source": [
    "for i in lists:\n",
    "    print i, possible_variance(i)"
   ]
  },
  {
   "cell_type": "code",
   "execution_count": 12,
   "metadata": {
    "collapsed": true
   },
   "outputs": [],
   "source": [
    "import random"
   ]
  },
  {
   "cell_type": "code",
   "execution_count": 15,
   "metadata": {
    "collapsed": false
   },
   "outputs": [
    {
     "data": {
      "text/plain": [
       "0.020898115340703405"
      ]
     },
     "execution_count": 15,
     "metadata": {},
     "output_type": "execute_result"
    }
   ],
   "source": [
    "random.random"
   ]
  },
  {
   "cell_type": "code",
   "execution_count": null,
   "metadata": {
    "collapsed": true
   },
   "outputs": [],
   "source": []
  }
 ],
 "metadata": {
  "kernelspec": {
   "display_name": "Python 2",
   "language": "python",
   "name": "python2"
  },
  "language_info": {
   "codemirror_mode": {
    "name": "ipython",
    "version": 2
   },
   "file_extension": ".py",
   "mimetype": "text/x-python",
   "name": "python",
   "nbconvert_exporter": "python",
   "pygments_lexer": "ipython2",
   "version": "2.7.9"
  }
 },
 "nbformat": 4,
 "nbformat_minor": 0
}
