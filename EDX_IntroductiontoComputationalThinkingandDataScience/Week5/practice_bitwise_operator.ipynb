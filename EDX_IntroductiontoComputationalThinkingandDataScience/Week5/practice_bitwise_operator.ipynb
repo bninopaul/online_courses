{
 "cells": [
  {
   "cell_type": "code",
   "execution_count": 16,
   "metadata": {
    "collapsed": false
   },
   "outputs": [
    {
     "data": {
      "text/plain": [
       "3"
      ]
     },
     "execution_count": 16,
     "metadata": {},
     "output_type": "execute_result"
    }
   ],
   "source": [
    "x = 7 #in binary - 111\n",
    "x>>1  #move 1 place to the right, thus 011"
   ]
  },
  {
   "cell_type": "code",
   "execution_count": 120,
   "metadata": {
    "collapsed": false
   },
   "outputs": [],
   "source": [
    "def powerSet(items):\n",
    "    N = len(items)\n",
    "    # enumerate the 2**N possible combinations\n",
    "    for i in xrange(2**N):\n",
    "        combo = []\n",
    "        for j in xrange(N):\n",
    "            # test bit jth of integer i\n",
    "            if (i >> j) % 2 == 1:\n",
    "                combo.append(items[j])\n",
    "        yield combo"
   ]
  },
  {
   "cell_type": "code",
   "execution_count": 121,
   "metadata": {
    "collapsed": false
   },
   "outputs": [
    {
     "name": "stdout",
     "output_type": "stream",
     "text": [
      "[]\n",
      "[0]\n",
      "[1]\n",
      "[0, 1]\n",
      "[2]\n",
      "[0, 2]\n",
      "[1, 2]\n",
      "[0, 1, 2]\n"
     ]
    }
   ],
   "source": [
    "items = range(3)\n",
    "combi = powerSet(items)\n",
    "for i in combi:\n",
    "    print i"
   ]
  },
  {
   "cell_type": "markdown",
   "metadata": {},
   "source": [
    "With two bags, there are $3^n$ possible combinations available.\n",
    "\n",
    "\n",
    "With one bag we determined there were $2^n$ possible combinations available by representing the bag as a list of binary bits, 0 or 1. Since there are N bits, and they can be one of two possibilities, there must be $2^n$ possibilities.\n",
    "\n",
    "\n",
    "With two bags there thus must be $3^n$ possible combinations. You can imagine this by representing the two bags as a list of \"trinary\" bits, 0, 1, or 2 (a 0 if an item is in neither bag; 1 if it is in bag1; 2 if it is in bag2). With the \"trinary\" bits, there are N bits that can each be one of three possibilities - thus there must be $3^n$ possible combinations."
   ]
  },
  {
   "cell_type": "code",
   "execution_count": 122,
   "metadata": {
    "collapsed": true
   },
   "outputs": [],
   "source": [
    "def dToT(n, numDigits):\n",
    "    \"\"\"requires: n is a natural number less than 2**numDigits\n",
    "      returns a binary string of length numDigits representing the\n",
    "              the decimal number n.\"\"\"\n",
    "    assert type(n)==int and type(numDigits)==int and n >=0 and n < 3**numDigits\n",
    "    bStr = ''\n",
    "    while n > 0:\n",
    "        bStr = str(n % 3) + bStr\n",
    "        n = n//3\n",
    "    while numDigits - len(bStr) > 0:\n",
    "        bStr = '0' + bStr\n",
    "    return bStr\n",
    "\n",
    "\n",
    "def yieldAllCombos(items):\n",
    "    \"\"\"\n",
    "        Generates all combinations of N items into two bags, whereby each \n",
    "        item is in one or zero bags.\n",
    "\n",
    "        Yields a tuple, (bag1, bag2), where each bag is represented as a list \n",
    "        of which item(s) are in each bag.\n",
    "    \"\"\"\n",
    "    # Your code here\n",
    "    N = len(items)\n",
    "    for i in xrange(3**N):\n",
    "        combo = []\n",
    "        for j in xrange(N):\n",
    "            # test bit jth of integer i\n",
    "            if (i >> j) % 3 == 1:\n",
    "                print i, j, items[j]\n",
    "                combo.append(items[j])\n",
    "        yield combo"
   ]
  },
  {
   "cell_type": "code",
   "execution_count": 124,
   "metadata": {
    "collapsed": false
   },
   "outputs": [
    {
     "name": "stdout",
     "output_type": "stream",
     "text": [
      "000\n",
      "001\n",
      "002\n",
      "010\n",
      "011\n",
      "012\n",
      "020\n",
      "021\n"
     ]
    }
   ],
   "source": [
    "for i in range(8):\n",
    "    print dToT(i, 3)"
   ]
  },
  {
   "cell_type": "code",
   "execution_count": 125,
   "metadata": {
    "collapsed": true
   },
   "outputs": [],
   "source": [
    "def yieldAllCombos(items):\n",
    "    \"\"\"\n",
    "    Generates all combinations of N items into two bags, whereby each item is in one or zero bags.\n",
    "\n",
    "    Yields a tuple, (bag1, bag2), where each bag is represented as a list of which item(s) are in each bag.\n",
    "    \"\"\"\n",
    "    N = len(items)\n",
    "    # Enumerate the 3**N possible combinations   \n",
    "    for i in xrange(3**N):\n",
    "        bag1 = []\n",
    "        bag2 = []\n",
    "        for j in xrange(N):\n",
    "            if (i / (3 ** j)) % 3 == 1:\n",
    "                bag1.append(items[j])\n",
    "            elif (i / (3 ** j)) % 3 == 2:\n",
    "                bag2.append(items[j])\n",
    "        yield (bag1, bag2)"
   ]
  },
  {
   "cell_type": "code",
   "execution_count": 127,
   "metadata": {
    "collapsed": false
   },
   "outputs": [],
   "source": [
    "a = yieldAllCombos(items)"
   ]
  },
  {
   "cell_type": "code",
   "execution_count": 128,
   "metadata": {
    "collapsed": false
   },
   "outputs": [
    {
     "name": "stdout",
     "output_type": "stream",
     "text": [
      "([], [])\n",
      "([0], [])\n",
      "([], [0])\n",
      "([1], [])\n",
      "([0], [])\n",
      "([], [0])\n",
      "([], [1])\n",
      "([0], [])\n",
      "([], [0])\n",
      "([2], [])\n",
      "([0], [])\n",
      "([], [0])\n",
      "([1], [])\n",
      "([0], [])\n",
      "([], [0])\n",
      "([], [1])\n",
      "([0], [])\n",
      "([], [0])\n",
      "([], [2])\n",
      "([0], [])\n",
      "([], [0])\n",
      "([1], [])\n",
      "([0], [])\n",
      "([], [0])\n",
      "([], [1])\n",
      "([0], [])\n",
      "([], [0])\n"
     ]
    }
   ],
   "source": [
    "for i in a:\n",
    "    print i"
   ]
  },
  {
   "cell_type": "code",
   "execution_count": null,
   "metadata": {
    "collapsed": true
   },
   "outputs": [],
   "source": []
  }
 ],
 "metadata": {
  "kernelspec": {
   "display_name": "Python 2",
   "language": "python",
   "name": "python2"
  },
  "language_info": {
   "codemirror_mode": {
    "name": "ipython",
    "version": 2
   },
   "file_extension": ".py",
   "mimetype": "text/x-python",
   "name": "python",
   "nbconvert_exporter": "python",
   "pygments_lexer": "ipython2",
   "version": "2.7.9"
  }
 },
 "nbformat": 4,
 "nbformat_minor": 0
}
