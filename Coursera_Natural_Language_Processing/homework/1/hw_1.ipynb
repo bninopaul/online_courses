{
 "cells": [
  {
   "cell_type": "code",
   "execution_count": 5,
   "metadata": {
    "collapsed": true
   },
   "outputs": [],
   "source": [
    "import re"
   ]
  },
  {
   "cell_type": "code",
   "execution_count": 438,
   "metadata": {
    "collapsed": false
   },
   "outputs": [],
   "source": [
    "strings = [\"jurafsky@stanford.edu\",\n",
    "           \"jurafsky(at)cs.stanford.edu\",\n",
    "           \"jurafsky at csli dot stanford dot edu\",\n",
    "           \"\"\"<script type=\"text/javascript\">obfuscate('stanford.edu','jurafsky')</script>\"\"\",\n",
    "          \"Email: ashishg @ stanford.edu<o:p></o:p><br>\",\n",
    "          \"d-l-w-h-@-s-t-a-n-f-o-r-d-.-e-d-u\", \n",
    "          \"<address>engler WHERE stanford DOM edu</address>\"]"
   ]
  },
  {
   "cell_type": "code",
   "execution_count": 444,
   "metadata": {
    "collapsed": false
   },
   "outputs": [
    {
     "data": {
      "text/plain": [
       "[('stanford', 'DOM')]"
      ]
     },
     "execution_count": 444,
     "metadata": {},
     "output_type": "execute_result"
    }
   ],
   "source": [
    "re.findall(my_first_pat, strings[6])"
   ]
  },
  {
   "cell_type": "code",
   "execution_count": 448,
   "metadata": {
    "collapsed": false
   },
   "outputs": [
    {
     "name": "stdout",
     "output_type": "stream",
     "text": [
      "[('jurafsky', 'stanford')]\n",
      "[('jurafsky', 'cs.stanford')]\n",
      "[('jurafsky', 'csli.stanford')]\n",
      "[('jurafsky', 'stanford')]\n",
      "[('ashishg', 'stanford')]\n",
      "[('dlwh', 'stanford')]\n",
      "[('engler', 'stanford')]\n"
     ]
    }
   ],
   "source": [
    "my_first_pat = '(\\w+)[@(at) ]*([.\\w]+).[eE][dD][uU]'\n",
    "other_pat = \".*\\('(\\w+)\\.edu.*'(\\w+).*\"\n",
    "pat2 = \"(\\w+) WHERE (\\w+) DOM edu\"\n",
    "def email_regex(line):\n",
    "    line = re.sub(\" dot \", \".\", line)\n",
    "    line = re.sub(\"-\", \"\", line)\n",
    "    if re.findall(other_pat, line):\n",
    "        print [re.findall(other_pat, line)[0][::-1]]\n",
    "    elif re.findall(pat2, line):\n",
    "        print re.findall(pat2, line)\n",
    "    elif re.findall(my_first_pat, line):\n",
    "        print re.findall(my_first_pat, line)\n",
    "\n",
    "for i in strings:\n",
    "    email_regex(i)"
   ]
  },
  {
   "cell_type": "code",
   "execution_count": 408,
   "metadata": {
    "collapsed": true
   },
   "outputs": [],
   "source": [
    "phone_strings = [\"TEL +1-650-723-0293\",\n",
    "                 \"Phone: (650) 723-0293\",\n",
    "                 \"Tel (+1): 650-723-0293\",\n",
    "                 '<a href=\"contact.html\">TEL</a> +1&thinsp;650&thinsp;723&thinsp;0293',\n",
    "                 ' Fax: 650-725-2588 <br>, Phone: 650-723-7690,']"
   ]
  },
  {
   "cell_type": "code",
   "execution_count": 410,
   "metadata": {
    "collapsed": false
   },
   "outputs": [
    {
     "name": "stdout",
     "output_type": "stream",
     "text": [
      "[('650', '723', '0293')]\n",
      "[('650', '723', '0293')]\n",
      "[('650', '723', '0293')]\n",
      "[('650', '723', '0293')]\n",
      "[('650', '725', '2588'), ('650', '723', '7690')]\n"
     ]
    }
   ],
   "source": [
    "pat = \"[:\\w\\s\\d]*[- ]*[(]*(\\d{3})[)]*[\\s-](\\d{3})-(\\d{4})\"\n",
    "other_pat = '.*;(\\d{3}).*;(\\d{3}).*;(\\d{4}).*' \n",
    "for i in phone_strings:\n",
    "    if re.findall(pat, i):\n",
    "        print re.findall(pat, i)\n",
    "    if re.findall(other_pat, i):\n",
    "        print re.findall(other_pat, i)"
   ]
  },
  {
   "cell_type": "code",
   "execution_count": 378,
   "metadata": {
    "collapsed": false
   },
   "outputs": [
    {
     "data": {
      "text/plain": [
       "[('650', '725', '2588'), ('650', '723', '7690')]"
      ]
     },
     "execution_count": 378,
     "metadata": {},
     "output_type": "execute_result"
    }
   ],
   "source": [
    "pattern = \"(\\d{3})[-) ]*(\\d{3})-(\\d{4})\"\n",
    "re.findall(pattern, phone_strings[4])"
   ]
  },
  {
   "cell_type": "code",
   "execution_count": 297,
   "metadata": {
    "collapsed": false
   },
   "outputs": [
    {
     "name": "stdout",
     "output_type": "stream",
     "text": [
      "[('www', '.cs.hmc')]\n",
      "[('www', '.bgsu')]\n",
      "[('www', '.cs.cornell')]\n",
      "[('www', '.eecs.berkeley')]\n",
      "[('db', '.stanford')]\n",
      "[('db', '.stanford')]\n",
      "[('db', '.stanford')]\n",
      "[('db', '.stanford')]\n",
      "[('www', '.stanford')]\n",
      "[('www', '.stanford')]\n",
      "[('www', '.cs.stanford')]\n",
      "[('keeda', '.stanford')]\n",
      "[('saturn', '.stanford')]\n",
      "[('saturn', '.stanford')]\n",
      "[('sequoia', '.stanford')]\n",
      "[('theory', '.stanford')]\n",
      "[('www', '.cs.wisc')]\n",
      "[('www', '.cs.umd')]\n",
      "[('http', '.cs.berkeley')]\n",
      "[('moss', '.cs.berkeley')]\n",
      "[('http', '.cs.berkeley')]\n",
      "[('http', '.cs.berkeley')]\n",
      "[('www', '.cs.berkeley')]\n",
      "[('cs', '.stanford')]\n",
      "[('infolab', '.stanford')]\n",
      "[('www', '.stanford')]\n",
      "[('www', '.stanford')]\n",
      "[('www', '.stanford')]\n",
      "[('http', '.cs.berkeley')]\n",
      "[('www', '.stanford')]\n",
      "[('www', '.stanford')]\n",
      "[('cs', '.stanford')]\n",
      "[('www', '.cs.umd')]\n",
      "[('http', '.cs.berkeley')]\n",
      "[('www', '.cs.wisc')]\n",
      "[('www', '.cs.ucdavis')]\n",
      "[('glide', '.stanford')]\n"
     ]
    }
   ],
   "source": [
    "with open(\"CMP462_HW01_Data/data/dev/aiken\") as file_:\n",
    "    for i in file_:\n",
    "        email_regex(i)"
   ]
  },
  {
   "cell_type": "code",
   "execution_count": 458,
   "metadata": {
    "collapsed": false
   },
   "outputs": [
    {
     "data": {
      "text/plain": [
       "[('manna', 'cs.stanford'), ('manna', 'cs.stanford')]"
      ]
     },
     "execution_count": 458,
     "metadata": {},
     "output_type": "execute_result"
    }
   ],
   "source": [
    "re.findall(\"(\\w+)@([.\\w]+).edu\", '<tr><td> <strong> Email:</strong><td><a href=\"mailto:manna@cs.stanford.edu\">manna@cs.stanford.edu</a><')"
   ]
  }
 ],
 "metadata": {
  "kernelspec": {
   "display_name": "Python 2",
   "language": "python",
   "name": "python2"
  },
  "language_info": {
   "codemirror_mode": {
    "name": "ipython",
    "version": 2
   },
   "file_extension": ".py",
   "mimetype": "text/x-python",
   "name": "python",
   "nbconvert_exporter": "python",
   "pygments_lexer": "ipython2",
   "version": "2.7.9"
  }
 },
 "nbformat": 4,
 "nbformat_minor": 0
}
