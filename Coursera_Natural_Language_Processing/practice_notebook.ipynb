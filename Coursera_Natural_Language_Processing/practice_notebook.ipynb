{
 "cells": [
  {
   "cell_type": "markdown",
   "metadata": {},
   "source": [
    "### Levenshtein Distance "
   ]
  },
  {
   "cell_type": "code",
   "execution_count": 21,
   "metadata": {
    "collapsed": true
   },
   "outputs": [],
   "source": [
    "def edit_dist(string1, string2):\n",
    "    n = len(string1)\n",
    "    m = len(string2)\n",
    "    mat = np.zeros((n+1,m+1))\n",
    "    mat[:,0] = np.arange(n+1)\n",
    "    mat[0,:] = np.arange(m+1)\n",
    "    for i in range(1, n+1):\n",
    "        for j in range(1, m+1):\n",
    "            arg1 = mat[i-1,j]+1\n",
    "            arg2 = mat[i,j-1]+1\n",
    "            arg3 = mat[i-1, j-1]\n",
    "            if string1[i-1]!=string2[j-1]:\n",
    "                arg3+=2\n",
    "            mat[i,j] = min(arg1, arg2, arg3)\n",
    "    print mat[::-1]\n",
    "    return mat[n,m] "
   ]
  },
  {
   "cell_type": "code",
   "execution_count": 22,
   "metadata": {
    "collapsed": false,
    "scrolled": true
   },
   "outputs": [
    {
     "name": "stdout",
     "output_type": "stream",
     "text": [
      "[[  9.   8.   9.  10.  11.  12.  11.  10.   9.   8.]\n",
      " [  8.   7.   8.   9.  10.  11.  10.   9.   8.   9.]\n",
      " [  7.   6.   7.   8.   9.  10.   9.   8.   9.  10.]\n",
      " [  6.   5.   6.   7.   8.   9.   8.   9.  10.  11.]\n",
      " [  5.   4.   5.   6.   7.   8.   9.  10.  11.  10.]\n",
      " [  4.   3.   4.   5.   6.   7.   8.   9.  10.   9.]\n",
      " [  3.   4.   5.   6.   7.   8.   7.   8.   9.   8.]\n",
      " [  2.   3.   4.   5.   6.   7.   8.   7.   8.   7.]\n",
      " [  1.   2.   3.   4.   5.   6.   7.   6.   7.   8.]\n",
      " [  0.   1.   2.   3.   4.   5.   6.   7.   8.   9.]]\n"
     ]
    },
    {
     "data": {
      "text/plain": [
       "8.0"
      ]
     },
     "execution_count": 22,
     "metadata": {},
     "output_type": "execute_result"
    }
   ],
   "source": [
    "string1 = \"intention\"\n",
    "string2 = \"execution\"\n",
    "edit_dist(string1, string2)"
   ]
  },
  {
   "cell_type": "code",
   "execution_count": 11,
   "metadata": {
    "collapsed": false
   },
   "outputs": [
    {
     "data": {
      "text/plain": [
       "'!\"#$%&\\'()*+,-./:;<=>?@[\\\\]^_`{|}~'"
      ]
     },
     "execution_count": 11,
     "metadata": {},
     "output_type": "execute_result"
    }
   ],
   "source": [
    "import string\n",
    "import re\n",
    "string.punctuation"
   ]
  },
  {
   "cell_type": "code",
   "execution_count": 9,
   "metadata": {
    "collapsed": false
   },
   "outputs": [],
   "source": [
    "string_ = []\n",
    "with open(\"homework/4/data/imdb1/pos/cv000_29590.txt\") as file_:\n",
    "    for i in file_:\n",
    "        string_+=i.split()"
   ]
  },
  {
   "cell_type": "code",
   "execution_count": 44,
   "metadata": {
    "collapsed": false
   },
   "outputs": [],
   "source": [
    "indices = []\n",
    "for i,word in enumerate(string_):\n",
    "    if re.search(\"^not$|n't|never\", word) or re.match(\"[\\.\\?,!]\", word):\n",
    "        indices.append((i, word))"
   ]
  },
  {
   "cell_type": "code",
   "execution_count": 56,
   "metadata": {
    "collapsed": true
   },
   "outputs": [],
   "source": [
    "indices  = [(i,word) for i,word in enumerate(string_) if re.search(\"^not$|n't|never\", word) or re.match(\"[\\.\\?,!]\", word)]"
   ]
  },
  {
   "cell_type": "code",
   "execution_count": 58,
   "metadata": {
    "collapsed": true
   },
   "outputs": [],
   "source": [
    "to_change = [(indices[i][0]+1, indices[i+1][0]-1) for i in range(len(indices)-1) if re.search(\"^not$|n't|never\", indices[i][1]) and re.match(\"[\\.\\?,!]\", indices[i+1][1])]"
   ]
  },
  {
   "cell_type": "code",
   "execution_count": 52,
   "metadata": {
    "collapsed": false
   },
   "outputs": [],
   "source": [
    "for i in to_change:\n",
    "    for j in range(*i):\n",
    "        string_[j] = \"NOT_\"+string_[j]"
   ]
  }
 ],
 "metadata": {
  "kernelspec": {
   "display_name": "Python 2",
   "language": "python",
   "name": "python2"
  },
  "language_info": {
   "codemirror_mode": {
    "name": "ipython",
    "version": 2
   },
   "file_extension": ".py",
   "mimetype": "text/x-python",
   "name": "python",
   "nbconvert_exporter": "python",
   "pygments_lexer": "ipython2",
   "version": "2.7.9"
  }
 },
 "nbformat": 4,
 "nbformat_minor": 0
}
