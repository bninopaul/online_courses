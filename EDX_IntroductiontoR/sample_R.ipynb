{
 "cells": [
  {
   "cell_type": "markdown",
   "metadata": {},
   "source": [
    "## Module 1: Basic"
   ]
  },
  {
   "cell_type": "code",
   "execution_count": 12,
   "metadata": {
    "collapsed": true
   },
   "outputs": [],
   "source": [
    "#assign height and width\n",
    "height <- 4\n",
    "width <- 3\n",
    "#calculate the value for area\n",
    "area <- height*width"
   ]
  },
  {
   "cell_type": "code",
   "execution_count": 13,
   "metadata": {
    "collapsed": false
   },
   "outputs": [
    {
     "data": {
      "text/html": [
       "<ol class=list-inline>\n",
       "\t<li>'area'</li>\n",
       "\t<li>'height'</li>\n",
       "\t<li>'width'</li>\n",
       "</ol>\n"
      ],
      "text/latex": [
       "\\begin{enumerate*}\n",
       "\\item 'area'\n",
       "\\item 'height'\n",
       "\\item 'width'\n",
       "\\end{enumerate*}\n"
      ],
      "text/markdown": [
       "1. 'area'\n",
       "2. 'height'\n",
       "3. 'width'\n",
       "\n",
       "\n"
      ],
      "text/plain": [
       "[1] \"area\"   \"height\" \"width\" "
      ]
     },
     "execution_count": 13,
     "metadata": {},
     "output_type": "execute_result"
    }
   ],
   "source": [
    "#prints the variables in the workspace\n",
    "ls()"
   ]
  },
  {
   "cell_type": "code",
   "execution_count": 14,
   "metadata": {
    "collapsed": true
   },
   "outputs": [],
   "source": [
    "#remove the value area in the workspace\n",
    "rm(area)"
   ]
  },
  {
   "cell_type": "code",
   "execution_count": 15,
   "metadata": {
    "collapsed": false
   },
   "outputs": [
    {
     "data": {
      "text/html": [
       "<ol class=list-inline>\n",
       "\t<li>'height'</li>\n",
       "\t<li>'width'</li>\n",
       "</ol>\n"
      ],
      "text/latex": [
       "\\begin{enumerate*}\n",
       "\\item 'height'\n",
       "\\item 'width'\n",
       "\\end{enumerate*}\n"
      ],
      "text/markdown": [
       "1. 'height'\n",
       "2. 'width'\n",
       "\n",
       "\n"
      ],
      "text/plain": [
       "[1] \"height\" \"width\" "
      ]
     },
     "execution_count": 15,
     "metadata": {},
     "output_type": "execute_result"
    }
   ],
   "source": [
    "ls()"
   ]
  },
  {
   "cell_type": "code",
   "execution_count": 16,
   "metadata": {
    "collapsed": false
   },
   "outputs": [
    {
     "data": {
      "text/html": [
       "'numeric'"
      ],
      "text/latex": [
       "'numeric'"
      ],
      "text/markdown": [
       "'numeric'"
      ],
      "text/plain": [
       "[1] \"numeric\""
      ]
     },
     "execution_count": 16,
     "metadata": {},
     "output_type": "execute_result"
    }
   ],
   "source": [
    "class(height)"
   ]
  },
  {
   "cell_type": "code",
   "execution_count": 21,
   "metadata": {
    "collapsed": false
   },
   "outputs": [
    {
     "data": {
      "text/html": [
       "'logical'"
      ],
      "text/latex": [
       "'logical'"
      ],
      "text/markdown": [
       "'logical'"
      ],
      "text/plain": [
       "[1] \"logical\""
      ]
     },
     "execution_count": 21,
     "metadata": {},
     "output_type": "execute_result"
    },
    {
     "data": {
      "text/html": [
       "'logical'"
      ],
      "text/latex": [
       "'logical'"
      ],
      "text/markdown": [
       "'logical'"
      ],
      "text/plain": [
       "[1] \"logical\""
      ]
     },
     "execution_count": 21,
     "metadata": {},
     "output_type": "execute_result"
    }
   ],
   "source": [
    "class(TRUE)\n",
    "class(NA)"
   ]
  },
  {
   "cell_type": "code",
   "execution_count": 22,
   "metadata": {
    "collapsed": false
   },
   "outputs": [
    {
     "data": {
      "text/html": [
       "'numeric'"
      ],
      "text/latex": [
       "'numeric'"
      ],
      "text/markdown": [
       "'numeric'"
      ],
      "text/plain": [
       "[1] \"numeric\""
      ]
     },
     "execution_count": 22,
     "metadata": {},
     "output_type": "execute_result"
    }
   ],
   "source": [
    "class(2)"
   ]
  },
  {
   "cell_type": "code",
   "execution_count": 23,
   "metadata": {
    "collapsed": false
   },
   "outputs": [
    {
     "data": {
      "text/html": [
       "'integer'"
      ],
      "text/latex": [
       "'integer'"
      ],
      "text/markdown": [
       "'integer'"
      ],
      "text/plain": [
       "[1] \"integer\""
      ]
     },
     "execution_count": 23,
     "metadata": {},
     "output_type": "execute_result"
    }
   ],
   "source": [
    "class(2L)"
   ]
  },
  {
   "cell_type": "markdown",
   "metadata": {},
   "source": [
    "## Module 2: Vectors"
   ]
  },
  {
   "cell_type": "code",
   "execution_count": 26,
   "metadata": {
    "collapsed": false
   },
   "outputs": [
    {
     "data": {
      "text/html": [
       "<ol class=list-inline>\n",
       "\t<li>'hearts'</li>\n",
       "\t<li>'spades'</li>\n",
       "\t<li>'diamonds'</li>\n",
       "\t<li>'diamonds'</li>\n",
       "\t<li>'spades'</li>\n",
       "</ol>\n"
      ],
      "text/latex": [
       "\\begin{enumerate*}\n",
       "\\item 'hearts'\n",
       "\\item 'spades'\n",
       "\\item 'diamonds'\n",
       "\\item 'diamonds'\n",
       "\\item 'spades'\n",
       "\\end{enumerate*}\n"
      ],
      "text/markdown": [
       "1. 'hearts'\n",
       "2. 'spades'\n",
       "3. 'diamonds'\n",
       "4. 'diamonds'\n",
       "5. 'spades'\n",
       "\n",
       "\n"
      ],
      "text/plain": [
       "[1] \"hearts\"   \"spades\"   \"diamonds\" \"diamonds\" \"spades\"  "
      ]
     },
     "execution_count": 26,
     "metadata": {},
     "output_type": "execute_result"
    }
   ],
   "source": [
    "drawnsuits <- c(\"hearts\", \"spades\", \"diamonds\", \"diamonds\", \"spades\")\n",
    "drawnsuits"
   ]
  },
  {
   "cell_type": "code",
   "execution_count": 27,
   "metadata": {
    "collapsed": false
   },
   "outputs": [
    {
     "data": {
      "text/html": [
       "TRUE"
      ],
      "text/latex": [
       "TRUE"
      ],
      "text/markdown": [
       "TRUE"
      ],
      "text/plain": [
       "[1] TRUE"
      ]
     },
     "execution_count": 27,
     "metadata": {},
     "output_type": "execute_result"
    }
   ],
   "source": [
    "is.vector(drawnsuits)"
   ]
  },
  {
   "cell_type": "code",
   "execution_count": 29,
   "metadata": {
    "collapsed": false
   },
   "outputs": [
    {
     "data": {
      "text/html": [
       "<ol class=list-inline>\n",
       "\t<li>11</li>\n",
       "\t<li>12</li>\n",
       "\t<li>13</li>\n",
       "\t<li>10</li>\n",
       "</ol>\n"
      ],
      "text/latex": [
       "\\begin{enumerate*}\n",
       "\\item 11\n",
       "\\item 12\n",
       "\\item 13\n",
       "\\item 10\n",
       "\\end{enumerate*}\n"
      ],
      "text/markdown": [
       "1. 11\n",
       "2. 12\n",
       "3. 13\n",
       "4. 10\n",
       "\n",
       "\n"
      ],
      "text/plain": [
       "[1] 11 12 13 10"
      ]
     },
     "execution_count": 29,
     "metadata": {},
     "output_type": "execute_result"
    }
   ],
   "source": [
    "remain <- c(11, 12, 13, 10)\n",
    "remain"
   ]
  },
  {
   "cell_type": "code",
   "execution_count": 30,
   "metadata": {
    "collapsed": true
   },
   "outputs": [],
   "source": [
    "suits <- c(\"spades\", \"diamonds\", \"hearts\", \"clubs\")"
   ]
  },
  {
   "cell_type": "code",
   "execution_count": 31,
   "metadata": {
    "collapsed": true
   },
   "outputs": [],
   "source": [
    "names(remain) <- suits"
   ]
  },
  {
   "cell_type": "code",
   "execution_count": 33,
   "metadata": {
    "collapsed": false
   },
   "outputs": [
    {
     "data": {
      "text/html": [
       "<dl class=dl-horizontal>\n",
       "\t<dt>spades</dt>\n",
       "\t\t<dd>11</dd>\n",
       "\t<dt>diamonds</dt>\n",
       "\t\t<dd>12</dd>\n",
       "\t<dt>hearts</dt>\n",
       "\t\t<dd>13</dd>\n",
       "\t<dt>clubs</dt>\n",
       "\t\t<dd>10</dd>\n",
       "</dl>\n"
      ],
      "text/latex": [
       "\\begin{description*}\n",
       "\\item[spades] 11\n",
       "\\item[diamonds] 12\n",
       "\\item[hearts] 13\n",
       "\\item[clubs] 10\n",
       "\\end{description*}\n"
      ],
      "text/markdown": [
       "spades\n",
       ":   11diamonds\n",
       ":   12hearts\n",
       ":   13clubs\n",
       ":   10\n",
       "\n"
      ],
      "text/plain": [
       "  spades diamonds   hearts    clubs \n",
       "      11       12       13       10 "
      ]
     },
     "execution_count": 33,
     "metadata": {},
     "output_type": "execute_result"
    }
   ],
   "source": [
    "remain"
   ]
  },
  {
   "cell_type": "code",
   "execution_count": 34,
   "metadata": {
    "collapsed": false
   },
   "outputs": [
    {
     "data": {
      "text/html": [
       "<ol class=list-inline>\n",
       "\t<li>'7'</li>\n",
       "\t<li>'4'</li>\n",
       "\t<li>'A'</li>\n",
       "\t<li>'10'</li>\n",
       "\t<li>'K'</li>\n",
       "\t<li>'3'</li>\n",
       "\t<li>'2'</li>\n",
       "\t<li>'Q'</li>\n",
       "</ol>\n"
      ],
      "text/latex": [
       "\\begin{enumerate*}\n",
       "\\item '7'\n",
       "\\item '4'\n",
       "\\item 'A'\n",
       "\\item '10'\n",
       "\\item 'K'\n",
       "\\item '3'\n",
       "\\item '2'\n",
       "\\item 'Q'\n",
       "\\end{enumerate*}\n"
      ],
      "text/markdown": [
       "1. '7'\n",
       "2. '4'\n",
       "3. 'A'\n",
       "4. '10'\n",
       "5. 'K'\n",
       "6. '3'\n",
       "7. '2'\n",
       "8. 'Q'\n",
       "\n",
       "\n"
      ],
      "text/plain": [
       "[1] \"7\"  \"4\"  \"A\"  \"10\" \"K\"  \"3\"  \"2\"  \"Q\" "
      ]
     },
     "execution_count": 34,
     "metadata": {},
     "output_type": "execute_result"
    }
   ],
   "source": [
    "drawn_ranks <- c(7, 4, \"A\", 10, \"K\", 3, 2, \"Q\")\n",
    "drawn_ranks"
   ]
  },
  {
   "cell_type": "code",
   "execution_count": 35,
   "metadata": {
    "collapsed": false
   },
   "outputs": [
    {
     "data": {
      "text/html": [
       "<ol class=list-inline>\n",
       "\t<li>50</li>\n",
       "\t<li>100</li>\n",
       "\t<li>30</li>\n",
       "</ol>\n"
      ],
      "text/latex": [
       "\\begin{enumerate*}\n",
       "\\item 50\n",
       "\\item 100\n",
       "\\item 30\n",
       "\\end{enumerate*}\n"
      ],
      "text/markdown": [
       "1. 50\n",
       "2. 100\n",
       "3. 30\n",
       "\n",
       "\n"
      ],
      "text/plain": [
       "[1]  50 100  30"
      ]
     },
     "execution_count": 35,
     "metadata": {},
     "output_type": "execute_result"
    }
   ],
   "source": [
    "earnings <- c(50, 100, 30)\n",
    "earnings"
   ]
  },
  {
   "cell_type": "code",
   "execution_count": 36,
   "metadata": {
    "collapsed": false
   },
   "outputs": [
    {
     "data": {
      "text/html": [
       "<ol class=list-inline>\n",
       "\t<li>150</li>\n",
       "\t<li>300</li>\n",
       "\t<li>90</li>\n",
       "</ol>\n"
      ],
      "text/latex": [
       "\\begin{enumerate*}\n",
       "\\item 150\n",
       "\\item 300\n",
       "\\item 90\n",
       "\\end{enumerate*}\n"
      ],
      "text/markdown": [
       "1. 150\n",
       "2. 300\n",
       "3. 90\n",
       "\n",
       "\n"
      ],
      "text/plain": [
       "[1] 150 300  90"
      ]
     },
     "execution_count": 36,
     "metadata": {},
     "output_type": "execute_result"
    }
   ],
   "source": [
    "earnings*3"
   ]
  },
  {
   "cell_type": "code",
   "execution_count": 37,
   "metadata": {
    "collapsed": false
   },
   "outputs": [
    {
     "data": {
      "text/html": [
       "<ol class=list-inline>\n",
       "\t<li>30</li>\n",
       "\t<li>40</li>\n",
       "\t<li>80</li>\n",
       "</ol>\n"
      ],
      "text/latex": [
       "\\begin{enumerate*}\n",
       "\\item 30\n",
       "\\item 40\n",
       "\\item 80\n",
       "\\end{enumerate*}\n"
      ],
      "text/markdown": [
       "1. 30\n",
       "2. 40\n",
       "3. 80\n",
       "\n",
       "\n"
      ],
      "text/plain": [
       "[1] 30 40 80"
      ]
     },
     "execution_count": 37,
     "metadata": {},
     "output_type": "execute_result"
    }
   ],
   "source": [
    "expenses <- c(30, 40, 80)\n",
    "expenses"
   ]
  },
  {
   "cell_type": "code",
   "execution_count": 38,
   "metadata": {
    "collapsed": false
   },
   "outputs": [
    {
     "data": {
      "text/html": [
       "<ol class=list-inline>\n",
       "\t<li>20</li>\n",
       "\t<li>60</li>\n",
       "\t<li>-50</li>\n",
       "</ol>\n"
      ],
      "text/latex": [
       "\\begin{enumerate*}\n",
       "\\item 20\n",
       "\\item 60\n",
       "\\item -50\n",
       "\\end{enumerate*}\n"
      ],
      "text/markdown": [
       "1. 20\n",
       "2. 60\n",
       "3. -50\n",
       "\n",
       "\n"
      ],
      "text/plain": [
       "[1]  20  60 -50"
      ]
     },
     "execution_count": 38,
     "metadata": {},
     "output_type": "execute_result"
    }
   ],
   "source": [
    "earnings - expenses"
   ]
  },
  {
   "cell_type": "code",
   "execution_count": 39,
   "metadata": {
    "collapsed": false
   },
   "outputs": [
    {
     "data": {
      "text/html": [
       "30"
      ],
      "text/latex": [
       "30"
      ],
      "text/markdown": [
       "30"
      ],
      "text/plain": [
       "[1] 30"
      ]
     },
     "execution_count": 39,
     "metadata": {},
     "output_type": "execute_result"
    }
   ],
   "source": [
    "bank <- earnings -expenses\n",
    "sum(bank)"
   ]
  },
  {
   "cell_type": "code",
   "execution_count": 40,
   "metadata": {
    "collapsed": false
   },
   "outputs": [
    {
     "data": {
      "text/html": [
       "<ol class=list-inline>\n",
       "\t<li>TRUE</li>\n",
       "\t<li>TRUE</li>\n",
       "\t<li>FALSE</li>\n",
       "</ol>\n"
      ],
      "text/latex": [
       "\\begin{enumerate*}\n",
       "\\item TRUE\n",
       "\\item TRUE\n",
       "\\item FALSE\n",
       "\\end{enumerate*}\n"
      ],
      "text/markdown": [
       "1. TRUE\n",
       "2. TRUE\n",
       "3. FALSE\n",
       "\n",
       "\n"
      ],
      "text/plain": [
       "[1]  TRUE  TRUE FALSE"
      ]
     },
     "execution_count": 40,
     "metadata": {},
     "output_type": "execute_result"
    }
   ],
   "source": [
    "earnings > expenses"
   ]
  },
  {
   "cell_type": "code",
   "execution_count": 41,
   "metadata": {
    "collapsed": true
   },
   "outputs": [],
   "source": [
    "remain <- c(spades = 11, hearts = 12, diamonds = 11, clubs = 13)"
   ]
  },
  {
   "cell_type": "code",
   "execution_count": 42,
   "metadata": {
    "collapsed": false
   },
   "outputs": [
    {
     "data": {
      "text/html": [
       "<dl class=dl-horizontal>\n",
       "\t<dt>spades</dt>\n",
       "\t\t<dd>11</dd>\n",
       "\t<dt>hearts</dt>\n",
       "\t\t<dd>12</dd>\n",
       "\t<dt>diamonds</dt>\n",
       "\t\t<dd>11</dd>\n",
       "\t<dt>clubs</dt>\n",
       "\t\t<dd>13</dd>\n",
       "</dl>\n"
      ],
      "text/latex": [
       "\\begin{description*}\n",
       "\\item[spades] 11\n",
       "\\item[hearts] 12\n",
       "\\item[diamonds] 11\n",
       "\\item[clubs] 13\n",
       "\\end{description*}\n"
      ],
      "text/markdown": [
       "spades\n",
       ":   11hearts\n",
       ":   12diamonds\n",
       ":   11clubs\n",
       ":   13\n",
       "\n"
      ],
      "text/plain": [
       "  spades   hearts diamonds    clubs \n",
       "      11       12       11       13 "
      ]
     },
     "execution_count": 42,
     "metadata": {},
     "output_type": "execute_result"
    }
   ],
   "source": [
    "remain"
   ]
  },
  {
   "cell_type": "code",
   "execution_count": 43,
   "metadata": {
    "collapsed": false
   },
   "outputs": [
    {
     "data": {
      "text/html": [
       "<strong>spades:</strong> 11"
      ],
      "text/latex": [
       "\\textbf{spades:} 11"
      ],
      "text/markdown": [
       "**spades:** 11"
      ],
      "text/plain": [
       "spades \n",
       "    11 "
      ]
     },
     "execution_count": 43,
     "metadata": {},
     "output_type": "execute_result"
    }
   ],
   "source": [
    "remain[1]"
   ]
  },
  {
   "cell_type": "code",
   "execution_count": 44,
   "metadata": {
    "collapsed": false
   },
   "outputs": [
    {
     "data": {
      "text/html": [
       "<strong>diamonds:</strong> 11"
      ],
      "text/latex": [
       "\\textbf{diamonds:} 11"
      ],
      "text/markdown": [
       "**diamonds:** 11"
      ],
      "text/plain": [
       "diamonds \n",
       "      11 "
      ]
     },
     "execution_count": 44,
     "metadata": {},
     "output_type": "execute_result"
    }
   ],
   "source": [
    "remain[3]"
   ]
  },
  {
   "cell_type": "code",
   "execution_count": 50,
   "metadata": {
    "collapsed": false
   },
   "outputs": [
    {
     "data": {
      "text/html": [
       "<strong>clubs:</strong> 13"
      ],
      "text/latex": [
       "\\textbf{clubs:} 13"
      ],
      "text/markdown": [
       "**clubs:** 13"
      ],
      "text/plain": [
       "clubs \n",
       "   13 "
      ]
     },
     "execution_count": 50,
     "metadata": {},
     "output_type": "execute_result"
    }
   ],
   "source": [
    "remain[\"clubs\"]"
   ]
  },
  {
   "cell_type": "code",
   "execution_count": 53,
   "metadata": {
    "collapsed": false
   },
   "outputs": [
    {
     "data": {
      "text/html": [
       "<dl class=dl-horizontal>\n",
       "\t<dt>hearts</dt>\n",
       "\t\t<dd>12</dd>\n",
       "\t<dt>diamonds</dt>\n",
       "\t\t<dd>11</dd>\n",
       "\t<dt>clubs</dt>\n",
       "\t\t<dd>13</dd>\n",
       "</dl>\n"
      ],
      "text/latex": [
       "\\begin{description*}\n",
       "\\item[hearts] 12\n",
       "\\item[diamonds] 11\n",
       "\\item[clubs] 13\n",
       "\\end{description*}\n"
      ],
      "text/markdown": [
       "hearts\n",
       ":   12diamonds\n",
       ":   11clubs\n",
       ":   13\n",
       "\n"
      ],
      "text/plain": [
       "  hearts diamonds    clubs \n",
       "      12       11       13 "
      ]
     },
     "execution_count": 53,
     "metadata": {},
     "output_type": "execute_result"
    }
   ],
   "source": [
    "remain[-1]"
   ]
  },
  {
   "cell_type": "code",
   "execution_count": 54,
   "metadata": {
    "collapsed": false
   },
   "outputs": [
    {
     "data": {
      "text/html": [
       "<dl class=dl-horizontal>\n",
       "\t<dt>spades</dt>\n",
       "\t\t<dd>11</dd>\n",
       "\t<dt>diamonds</dt>\n",
       "\t\t<dd>11</dd>\n",
       "</dl>\n"
      ],
      "text/latex": [
       "\\begin{description*}\n",
       "\\item[spades] 11\n",
       "\\item[diamonds] 11\n",
       "\\end{description*}\n"
      ],
      "text/markdown": [
       "spades\n",
       ":   11diamonds\n",
       ":   11\n",
       "\n"
      ],
      "text/plain": [
       "  spades diamonds \n",
       "      11       11 "
      ]
     },
     "execution_count": 54,
     "metadata": {},
     "output_type": "execute_result"
    }
   ],
   "source": [
    "vec <- c(T, F, T, F)\n",
    "remain[vec]"
   ]
  },
  {
   "cell_type": "markdown",
   "metadata": {
    "collapsed": true
   },
   "source": [
    "## Module 3: Matrices"
   ]
  },
  {
   "cell_type": "code",
   "execution_count": 5,
   "metadata": {
    "collapsed": false
   },
   "outputs": [
    {
     "data": {
      "text/html": [
       "<table>\n",
       "<tbody>\n",
       "\t<tr><td>1</td><td>3</td><td>5</td></tr>\n",
       "\t<tr><td>2</td><td>4</td><td>6</td></tr>\n",
       "</tbody>\n",
       "</table>\n"
      ],
      "text/latex": [
       "\\begin{tabular}{lll}\n",
       "\t 1 & 3 & 5\\\\\n",
       "\t 2 & 4 & 6\\\\\n",
       "\\end{tabular}\n"
      ],
      "text/markdown": [
       "1. 1\n",
       "2. 2\n",
       "3. 3\n",
       "4. 4\n",
       "5. 5\n",
       "6. 6\n",
       "\n",
       "\n"
      ],
      "text/plain": [
       "     [,1] [,2] [,3]\n",
       "[1,]    1    3    5\n",
       "[2,]    2    4    6"
      ]
     },
     "execution_count": 5,
     "metadata": {},
     "output_type": "execute_result"
    }
   ],
   "source": [
    "matrix(1:6, nrow = 2, ncol = 3)"
   ]
  },
  {
   "cell_type": "code",
   "execution_count": 9,
   "metadata": {
    "collapsed": false
   },
   "outputs": [
    {
     "data": {
      "text/html": [
       "<table>\n",
       "<tbody>\n",
       "\t<tr><td>1</td><td>2</td><td>3</td></tr>\n",
       "\t<tr><td>1</td><td>2</td><td>3</td></tr>\n",
       "</tbody>\n",
       "</table>\n"
      ],
      "text/latex": [
       "\\begin{tabular}{lll}\n",
       "\t 1 & 2 & 3\\\\\n",
       "\t 1 & 2 & 3\\\\\n",
       "\\end{tabular}\n"
      ],
      "text/markdown": [
       "1. 1\n",
       "2. 1\n",
       "3. 2\n",
       "4. 2\n",
       "5. 3\n",
       "6. 3\n",
       "\n",
       "\n"
      ],
      "text/plain": [
       "     [,1] [,2] [,3]\n",
       "[1,]    1    2    3\n",
       "[2,]    1    2    3"
      ]
     },
     "execution_count": 9,
     "metadata": {},
     "output_type": "execute_result"
    }
   ],
   "source": [
    "matrix(1:3, nrow = 2, ncol = 3, byrow = TRUE)"
   ]
  },
  {
   "cell_type": "code",
   "execution_count": 16,
   "metadata": {
    "collapsed": false
   },
   "outputs": [
    {
     "data": {
      "text/html": [
       "<table>\n",
       "<tbody>\n",
       "\t<tr><td>1</td><td>2</td><td>3</td></tr>\n",
       "\t<tr><td>1</td><td>2</td><td>3</td></tr>\n",
       "\t<tr><td>1</td><td>2</td><td>3</td></tr>\n",
       "</tbody>\n",
       "</table>\n"
      ],
      "text/latex": [
       "\\begin{tabular}{lll}\n",
       "\t 1 & 2 & 3\\\\\n",
       "\t 1 & 2 & 3\\\\\n",
       "\t 1 & 2 & 3\\\\\n",
       "\\end{tabular}\n"
      ],
      "text/markdown": [
       "1. 1\n",
       "2. 1\n",
       "3. 1\n",
       "4. 2\n",
       "5. 2\n",
       "6. 2\n",
       "7. 3\n",
       "8. 3\n",
       "9. 3\n",
       "\n",
       "\n"
      ],
      "text/plain": [
       "     [,1] [,2] [,3]\n",
       "[1,]    1    2    3\n",
       "[2,]    1    2    3\n",
       "[3,]    1    2    3"
      ]
     },
     "execution_count": 16,
     "metadata": {},
     "output_type": "execute_result"
    }
   ],
   "source": [
    "rbind(1:3, 1:3, 1:3)"
   ]
  },
  {
   "cell_type": "code",
   "execution_count": 19,
   "metadata": {
    "collapsed": false
   },
   "outputs": [
    {
     "data": {
      "text/html": [
       "<table>\n",
       "<thead><tr><th></th><th scope=col>1</th><th scope=col>2</th><th scope=col>3</th><th scope=col>4</th><th scope=col>5</th><th scope=col>6</th><th scope=col>7</th><th scope=col>8</th><th scope=col>9</th><th scope=col>10</th></tr></thead>\n",
       "<tbody>\n",
       "\t<tr><th scope=row>1</th><td> 1</td><td> 2</td><td> 3</td><td> 4</td><td> 5</td><td> 6</td><td> 7</td><td> 8</td><td> 9</td><td>10</td></tr>\n",
       "\t<tr><th scope=row>2</th><td>11</td><td>12</td><td>13</td><td>14</td><td>15</td><td>16</td><td>17</td><td>18</td><td>19</td><td>20</td></tr>\n",
       "\t<tr><th scope=row>3</th><td>21</td><td>22</td><td>23</td><td>24</td><td>25</td><td>26</td><td>27</td><td>28</td><td>29</td><td>30</td></tr>\n",
       "\t<tr><th scope=row>4</th><td>31</td><td>32</td><td>33</td><td>34</td><td>35</td><td>36</td><td>37</td><td>38</td><td>39</td><td>40</td></tr>\n",
       "\t<tr><th scope=row>5</th><td>41</td><td>42</td><td>43</td><td>44</td><td>45</td><td>46</td><td>47</td><td>48</td><td>49</td><td>50</td></tr>\n",
       "\t<tr><th scope=row>6</th><td>51</td><td>52</td><td>53</td><td>54</td><td>55</td><td>56</td><td>57</td><td>58</td><td>59</td><td>60</td></tr>\n",
       "\t<tr><th scope=row>7</th><td>61</td><td>62</td><td>63</td><td>64</td><td>65</td><td>66</td><td>67</td><td>68</td><td>69</td><td>70</td></tr>\n",
       "\t<tr><th scope=row>8</th><td>71</td><td>72</td><td>73</td><td>74</td><td>75</td><td>76</td><td>77</td><td>78</td><td>79</td><td>80</td></tr>\n",
       "\t<tr><th scope=row>9</th><td>81</td><td>82</td><td>83</td><td>84</td><td>85</td><td>86</td><td>87</td><td>88</td><td>89</td><td>90</td></tr>\n",
       "\t<tr><th scope=row>10</th><td> 91</td><td> 92</td><td> 93</td><td> 94</td><td> 95</td><td> 96</td><td> 97</td><td> 98</td><td> 99</td><td>100</td></tr>\n",
       "</tbody>\n",
       "</table>\n"
      ],
      "text/latex": [
       "\\begin{tabular}{r|llllllllll}\n",
       "  & 1 & 2 & 3 & 4 & 5 & 6 & 7 & 8 & 9 & 10\\\\\n",
       "\\hline\n",
       "\t1 &  1 &  2 &  3 &  4 &  5 &  6 &  7 &  8 &  9 & 10\\\\\n",
       "\t2 & 11 & 12 & 13 & 14 & 15 & 16 & 17 & 18 & 19 & 20\\\\\n",
       "\t3 & 21 & 22 & 23 & 24 & 25 & 26 & 27 & 28 & 29 & 30\\\\\n",
       "\t4 & 31 & 32 & 33 & 34 & 35 & 36 & 37 & 38 & 39 & 40\\\\\n",
       "\t5 & 41 & 42 & 43 & 44 & 45 & 46 & 47 & 48 & 49 & 50\\\\\n",
       "\t6 & 51 & 52 & 53 & 54 & 55 & 56 & 57 & 58 & 59 & 60\\\\\n",
       "\t7 & 61 & 62 & 63 & 64 & 65 & 66 & 67 & 68 & 69 & 70\\\\\n",
       "\t8 & 71 & 72 & 73 & 74 & 75 & 76 & 77 & 78 & 79 & 80\\\\\n",
       "\t9 & 81 & 82 & 83 & 84 & 85 & 86 & 87 & 88 & 89 & 90\\\\\n",
       "\t10 &  91 &  92 &  93 &  94 &  95 &  96 &  97 &  98 &  99 & 100\\\\\n",
       "\\end{tabular}\n"
      ],
      "text/markdown": [
       "1. 1\n",
       "2. 11\n",
       "3. 21\n",
       "4. 31\n",
       "5. 41\n",
       "6. 51\n",
       "7. 61\n",
       "8. 71\n",
       "9. 81\n",
       "10. 91\n",
       "11. 2\n",
       "12. 12\n",
       "13. 22\n",
       "14. 32\n",
       "15. 42\n",
       "16. 52\n",
       "17. 62\n",
       "18. 72\n",
       "19. 82\n",
       "20. 92\n",
       "21. 3\n",
       "22. 13\n",
       "23. 23\n",
       "24. 33\n",
       "25. 43\n",
       "26. 53\n",
       "27. 63\n",
       "28. 73\n",
       "29. 83\n",
       "30. 93\n",
       "31. 4\n",
       "32. 14\n",
       "33. 24\n",
       "34. 34\n",
       "35. 44\n",
       "36. 54\n",
       "37. 64\n",
       "38. 74\n",
       "39. 84\n",
       "40. 94\n",
       "41. 5\n",
       "42. 15\n",
       "43. 25\n",
       "44. 35\n",
       "45. 45\n",
       "46. 55\n",
       "47. 65\n",
       "48. 75\n",
       "49. 85\n",
       "50. 95\n",
       "51. 6\n",
       "52. 16\n",
       "53. 26\n",
       "54. 36\n",
       "55. 46\n",
       "56. 56\n",
       "57. 66\n",
       "58. 76\n",
       "59. 86\n",
       "60. 96\n",
       "61. 7\n",
       "62. 17\n",
       "63. 27\n",
       "64. 37\n",
       "65. 47\n",
       "66. 57\n",
       "67. 67\n",
       "68. 77\n",
       "69. 87\n",
       "70. 97\n",
       "71. 8\n",
       "72. 18\n",
       "73. 28\n",
       "74. 38\n",
       "75. 48\n",
       "76. 58\n",
       "77. 68\n",
       "78. 78\n",
       "79. 88\n",
       "80. 98\n",
       "81. 9\n",
       "82. 19\n",
       "83. 29\n",
       "84. 39\n",
       "85. 49\n",
       "86. 59\n",
       "87. 69\n",
       "88. 79\n",
       "89. 89\n",
       "90. 99\n",
       "91. 10\n",
       "92. 20\n",
       "93. 30\n",
       "94. 40\n",
       "95. 50\n",
       "96. 60\n",
       "97. 70\n",
       "98. 80\n",
       "99. 90\n",
       "100. 100\n",
       "\n",
       "\n"
      ],
      "text/plain": [
       "    1  2  3  4  5  6  7  8  9  10\n",
       "1   1  2  3  4  5  6  7  8  9  10\n",
       "2  11 12 13 14 15 16 17 18 19  20\n",
       "3  21 22 23 24 25 26 27 28 29  30\n",
       "4  31 32 33 34 35 36 37 38 39  40\n",
       "5  41 42 43 44 45 46 47 48 49  50\n",
       "6  51 52 53 54 55 56 57 58 59  60\n",
       "7  61 62 63 64 65 66 67 68 69  70\n",
       "8  71 72 73 74 75 76 77 78 79  80\n",
       "9  81 82 83 84 85 86 87 88 89  90\n",
       "10 91 92 93 94 95 96 97 98 99 100"
      ]
     },
     "execution_count": 19,
     "metadata": {},
     "output_type": "execute_result"
    }
   ],
   "source": [
    "matrix_ <- matrix(1:100, nrow = 10, ncol = 10, byrow = TRUE)\n",
    "names <- c(1,2,3,4,5,6,7,8,9,10)\n",
    "rownames(matrix_) <- names\n",
    "colnames(matrix_) <- names\n",
    "matrix_"
   ]
  },
  {
   "cell_type": "code",
   "execution_count": 20,
   "metadata": {
    "collapsed": false
   },
   "outputs": [
    {
     "data": {
      "text/html": [
       "<table>\n",
       "<thead><tr><th></th><th scope=col>col1</th><th scope=col>col2</th><th scope=col>col3</th></tr></thead>\n",
       "<tbody>\n",
       "\t<tr><th scope=row>row1</th><td>1</td><td>2</td><td>3</td></tr>\n",
       "\t<tr><th scope=row>row2</th><td>4</td><td>5</td><td>6</td></tr>\n",
       "</tbody>\n",
       "</table>\n"
      ],
      "text/latex": [
       "\\begin{tabular}{r|lll}\n",
       "  & col1 & col2 & col3\\\\\n",
       "\\hline\n",
       "\trow1 & 1 & 2 & 3\\\\\n",
       "\trow2 & 4 & 5 & 6\\\\\n",
       "\\end{tabular}\n"
      ],
      "text/markdown": [
       "1. 1\n",
       "2. 4\n",
       "3. 2\n",
       "4. 5\n",
       "5. 3\n",
       "6. 6\n",
       "\n",
       "\n"
      ],
      "text/plain": [
       "     col1 col2 col3\n",
       "row1    1    2    3\n",
       "row2    4    5    6"
      ]
     },
     "execution_count": 20,
     "metadata": {},
     "output_type": "execute_result"
    }
   ],
   "source": [
    "M <- matrix(1:6, byrow = TRUE, nrow = 2, dimnames = list(c(\"row1\", \"row2\"), c(\"col1\", \"col2\", \"col3\")))\n",
    "M"
   ]
  },
  {
   "cell_type": "code",
   "execution_count": 22,
   "metadata": {
    "collapsed": false
   },
   "outputs": [
    {
     "data": {
      "text/html": [
       "3"
      ],
      "text/latex": [
       "3"
      ],
      "text/markdown": [
       "3"
      ],
      "text/plain": [
       "[1] 3"
      ]
     },
     "execution_count": 22,
     "metadata": {},
     "output_type": "execute_result"
    }
   ],
   "source": [
    "M[1,3]"
   ]
  },
  {
   "cell_type": "code",
   "execution_count": 23,
   "metadata": {
    "collapsed": false
   },
   "outputs": [
    {
     "data": {
      "text/html": [
       "2"
      ],
      "text/latex": [
       "2"
      ],
      "text/markdown": [
       "2"
      ],
      "text/plain": [
       "[1] 2"
      ]
     },
     "execution_count": 23,
     "metadata": {},
     "output_type": "execute_result"
    }
   ],
   "source": [
    "M[3]"
   ]
  },
  {
   "cell_type": "markdown",
   "metadata": {},
   "source": [
    "## Module 4: Factors"
   ]
  },
  {
   "cell_type": "code",
   "execution_count": 24,
   "metadata": {
    "collapsed": false
   },
   "outputs": [
    {
     "data": {
      "text/html": [
       "<ol class=list-inline>\n",
       "\t<li>'B'</li>\n",
       "\t<li>'AB'</li>\n",
       "\t<li>'O'</li>\n",
       "\t<li>'A'</li>\n",
       "\t<li>'O'</li>\n",
       "\t<li>'O'</li>\n",
       "\t<li>'O'</li>\n",
       "\t<li>'A'</li>\n",
       "</ol>\n"
      ],
      "text/latex": [
       "\\begin{enumerate*}\n",
       "\\item 'B'\n",
       "\\item 'AB'\n",
       "\\item 'O'\n",
       "\\item 'A'\n",
       "\\item 'O'\n",
       "\\item 'O'\n",
       "\\item 'O'\n",
       "\\item 'A'\n",
       "\\end{enumerate*}\n"
      ],
      "text/markdown": [
       "1. 'B'\n",
       "2. 'AB'\n",
       "3. 'O'\n",
       "4. 'A'\n",
       "5. 'O'\n",
       "6. 'O'\n",
       "7. 'O'\n",
       "8. 'A'\n",
       "\n",
       "\n"
      ],
      "text/plain": [
       "[1] \"B\"  \"AB\" \"O\"  \"A\"  \"O\"  \"O\"  \"O\"  \"A\" "
      ]
     },
     "execution_count": 24,
     "metadata": {},
     "output_type": "execute_result"
    }
   ],
   "source": [
    "blood <- c(\"B\", \"AB\", \"O\", \"A\", \"O\", \"O\", \"O\", \"A\")\n",
    "blood"
   ]
  },
  {
   "cell_type": "code",
   "execution_count": 25,
   "metadata": {
    "collapsed": false
   },
   "outputs": [
    {
     "data": {
      "text/html": [
       "<ol class=list-inline>\n",
       "\t<li>B</li>\n",
       "\t<li>AB</li>\n",
       "\t<li>O</li>\n",
       "\t<li>A</li>\n",
       "\t<li>O</li>\n",
       "\t<li>O</li>\n",
       "\t<li>O</li>\n",
       "\t<li>A</li>\n",
       "</ol>\n"
      ],
      "text/latex": [
       "\\begin{enumerate*}\n",
       "\\item B\n",
       "\\item AB\n",
       "\\item O\n",
       "\\item A\n",
       "\\item O\n",
       "\\item O\n",
       "\\item O\n",
       "\\item A\n",
       "\\end{enumerate*}\n"
      ],
      "text/markdown": [
       "1. B\n",
       "2. AB\n",
       "3. O\n",
       "4. A\n",
       "5. O\n",
       "6. O\n",
       "7. O\n",
       "8. A\n",
       "\n",
       "\n"
      ],
      "text/plain": [
       "[1] B  AB O  A  O  O  O  A \n",
       "Levels: A AB B O"
      ]
     },
     "execution_count": 25,
     "metadata": {},
     "output_type": "execute_result"
    }
   ],
   "source": [
    "blood_factor<- factor(blood)\n",
    "blood_factor"
   ]
  },
  {
   "cell_type": "code",
   "execution_count": 27,
   "metadata": {
    "collapsed": false
   },
   "outputs": [
    {
     "data": {
      "text/html": [
       "<ol class=list-inline>\n",
       "\t<li>'A'</li>\n",
       "\t<li>'AB'</li>\n",
       "\t<li>'B'</li>\n",
       "\t<li>'O'</li>\n",
       "</ol>\n"
      ],
      "text/latex": [
       "\\begin{enumerate*}\n",
       "\\item 'A'\n",
       "\\item 'AB'\n",
       "\\item 'B'\n",
       "\\item 'O'\n",
       "\\end{enumerate*}\n"
      ],
      "text/markdown": [
       "1. 'A'\n",
       "2. 'AB'\n",
       "3. 'B'\n",
       "4. 'O'\n",
       "\n",
       "\n"
      ],
      "text/plain": [
       "[1] \"A\"  \"AB\" \"B\"  \"O\" "
      ]
     },
     "execution_count": 27,
     "metadata": {},
     "output_type": "execute_result"
    }
   ],
   "source": [
    "levels(blood_factor)"
   ]
  },
  {
   "cell_type": "markdown",
   "metadata": {},
   "source": [
    "## Module 5: Lists"
   ]
  },
  {
   "cell_type": "code",
   "execution_count": 29,
   "metadata": {
    "collapsed": false
   },
   "outputs": [
    {
     "data": {
      "text/html": [
       "<ol>\n",
       "\t<li>'Rsome times'</li>\n",
       "\t<li>190</li>\n",
       "\t<li>5</li>\n",
       "</ol>\n"
      ],
      "text/latex": [
       "\\begin{enumerate}\n",
       "\\item 'Rsome times'\n",
       "\\item 190\n",
       "\\item 5\n",
       "\\end{enumerate}\n"
      ],
      "text/markdown": [
       "1. 'Rsome times'\n",
       "2. 190\n",
       "3. 5\n",
       "\n",
       "\n"
      ],
      "text/plain": [
       "[[1]]\n",
       "[1] \"Rsome times\"\n",
       "\n",
       "[[2]]\n",
       "[1] 190\n",
       "\n",
       "[[3]]\n",
       "[1] 5\n"
      ]
     },
     "execution_count": 29,
     "metadata": {},
     "output_type": "execute_result"
    }
   ],
   "source": [
    "song <- list(\"Rsome times\", 190, 5)\n",
    "song"
   ]
  },
  {
   "cell_type": "code",
   "execution_count": 33,
   "metadata": {
    "collapsed": false
   },
   "outputs": [
    {
     "data": {
      "text/html": [
       "<dl>\n",
       "\t<dt>$track</dt>\n",
       "\t\t<dd>'Rsome times'</dd>\n",
       "\t<dt>$time</dt>\n",
       "\t\t<dd>3</dd>\n",
       "\t<dt>$duration</dt>\n",
       "\t\t<dd>190</dd>\n",
       "</dl>\n"
      ],
      "text/latex": [
       "\\begin{description}\n",
       "\\item[\\$track] 'Rsome times'\n",
       "\\item[\\$time] 3\n",
       "\\item[\\$duration] 190\n",
       "\\end{description}\n"
      ],
      "text/markdown": [
       "$track\n",
       ":   'Rsome times'\n",
       "$time\n",
       ":   3\n",
       "$duration\n",
       ":   190\n",
       "\n",
       "\n"
      ],
      "text/plain": [
       "$track\n",
       "[1] \"Rsome times\"\n",
       "\n",
       "$time\n",
       "[1] 3\n",
       "\n",
       "$duration\n",
       "[1] 190\n"
      ]
     },
     "execution_count": 33,
     "metadata": {},
     "output_type": "execute_result"
    }
   ],
   "source": [
    "song<- list(track = \"Rsome times\", time = 3, duration = 190)\n",
    "song"
   ]
  },
  {
   "cell_type": "code",
   "execution_count": 34,
   "metadata": {
    "collapsed": false
   },
   "outputs": [
    {
     "name": "stdout",
     "output_type": "stream",
     "text": [
      "List of 3\n",
      " $ track   : chr \"Rsome times\"\n",
      " $ time    : num 3\n",
      " $ duration: num 190\n"
     ]
    }
   ],
   "source": [
    "str(song)"
   ]
  },
  {
   "cell_type": "code",
   "execution_count": 35,
   "metadata": {
    "collapsed": false
   },
   "outputs": [
    {
     "data": {
      "text/plain": [
       "         Length Class  Mode     \n",
       "track    1      -none- character\n",
       "time     1      -none- numeric  \n",
       "duration 1      -none- numeric  "
      ]
     },
     "execution_count": 35,
     "metadata": {},
     "output_type": "execute_result"
    }
   ],
   "source": [
    "summary(song)"
   ]
  },
  {
   "cell_type": "markdown",
   "metadata": {},
   "source": [
    "## Module 6: Dataframes"
   ]
  },
  {
   "cell_type": "code",
   "execution_count": 4,
   "metadata": {
    "collapsed": false
   },
   "outputs": [
    {
     "data": {
      "text/html": [
       "<table>\n",
       "<thead><tr><th></th><th scope=col>name</th><th scope=col>age</th><th scope=col>child</th></tr></thead>\n",
       "<tbody>\n",
       "\t<tr><th scope=row>1</th><td>Anne</td><td>28</td><td>FALSE</td></tr>\n",
       "\t<tr><th scope=row>2</th><td>Pete</td><td>30</td><td>TRUE</td></tr>\n",
       "\t<tr><th scope=row>3</th><td>Frank</td><td>21</td><td>TRUE</td></tr>\n",
       "\t<tr><th scope=row>4</th><td>Julia</td><td>39</td><td>FALSE</td></tr>\n",
       "\t<tr><th scope=row>5</th><td>Cath</td><td>35</td><td>TRUE</td></tr>\n",
       "</tbody>\n",
       "</table>\n"
      ],
      "text/latex": [
       "\\begin{tabular}{r|lll}\n",
       "  & name & age & child\\\\\n",
       "\\hline\n",
       "\t1 & Anne & 28 & FALSE\\\\\n",
       "\t2 & Pete & 30 & TRUE\\\\\n",
       "\t3 & Frank & 21 & TRUE\\\\\n",
       "\t4 & Julia & 39 & FALSE\\\\\n",
       "\t5 & Cath & 35 & TRUE\\\\\n",
       "\\end{tabular}\n"
      ],
      "text/plain": [
       "   name age child\n",
       "1  Anne  28 FALSE\n",
       "2  Pete  30  TRUE\n",
       "3 Frank  21  TRUE\n",
       "4 Julia  39 FALSE\n",
       "5  Cath  35  TRUE"
      ]
     },
     "execution_count": 4,
     "metadata": {},
     "output_type": "execute_result"
    }
   ],
   "source": [
    "name <- c(\"Anne\", \"Pete\", \"Frank\", \"Julia\", \"Cath\")\n",
    "age <- c(28, 30, 21, 39, 35)\n",
    "child <- c(FALSE, TRUE, TRUE, FALSE, TRUE)\n",
    "df <- data.frame(name, age, child)\n",
    "df"
   ]
  },
  {
   "cell_type": "code",
   "execution_count": 37,
   "metadata": {
    "collapsed": false
   },
   "outputs": [
    {
     "name": "stdout",
     "output_type": "stream",
     "text": [
      "'data.frame':\t5 obs. of  3 variables:\n",
      " $ name : Factor w/ 5 levels \"Anne\",\"Cath\",..: 1 5 3 4 2\n",
      " $ age  : num  28 30 21 39 35\n",
      " $ child: logi  FALSE TRUE TRUE FALSE TRUE\n"
     ]
    }
   ],
   "source": [
    "str(df)"
   ]
  },
  {
   "cell_type": "code",
   "execution_count": 2,
   "metadata": {
    "collapsed": false
   },
   "outputs": [
    {
     "data": {
      "text/html": [
       "<ol class=list-inline>\n",
       "\t<li>3</li>\n",
       "\t<li>1</li>\n",
       "\t<li>2</li>\n",
       "\t<li>4</li>\n",
       "</ol>\n"
      ],
      "text/latex": [
       "\\begin{enumerate*}\n",
       "\\item 3\n",
       "\\item 1\n",
       "\\item 2\n",
       "\\item 4\n",
       "\\end{enumerate*}\n"
      ],
      "text/markdown": [
       "1. 3\n",
       "2. 1\n",
       "3. 2\n",
       "4. 4\n",
       "\n",
       "\n"
      ],
      "text/plain": [
       "[1] 3 1 2 4"
      ]
     },
     "execution_count": 2,
     "metadata": {},
     "output_type": "execute_result"
    }
   ],
   "source": [
    "order(c(4,3,5,2), decreasing = TRUE)"
   ]
  },
  {
   "cell_type": "markdown",
   "metadata": {
    "collapsed": true
   },
   "source": [
    "## Module 7: Graphics"
   ]
  },
  {
   "cell_type": "code",
   "execution_count": 7,
   "metadata": {
    "collapsed": false
   },
   "outputs": [
    {
     "ename": "ERROR",
     "evalue": "Error in file(con, \"rb\"): cannot open the connection\n",
     "output_type": "error",
     "traceback": [
      "Error in file(con, \"rb\"): cannot open the connection\n"
     ]
    },
    {
     "data": {
      "application/pdf": "[encoded data removed]",
      "image/jpeg": "[encoded data removed]",
      "image/png": "[encoded data removed]",
      "text/plain": [
       "plot without title"
      ]
     },
     "metadata": {
      "image/svg+xml": {
       "isolated": true
      }
     },
     "output_type": "display_data"
    }
   ],
   "source": [
    "plot(df$age,df$age)"
   ]
  },
  {
   "cell_type": "code",
   "execution_count": null,
   "metadata": {
    "collapsed": true
   },
   "outputs": [],
   "source": []
  }
 ],
 "metadata": {
  "kernelspec": {
   "display_name": "R",
   "language": "R",
   "name": "ir"
  },
  "language_info": {
   "codemirror_mode": "r",
   "file_extension": ".r",
   "mimetype": "text/x-r-source",
   "name": "R",
   "pygments_lexer": "r",
   "version": "3.2.1"
  }
 },
 "nbformat": 4,
 "nbformat_minor": 0
}
